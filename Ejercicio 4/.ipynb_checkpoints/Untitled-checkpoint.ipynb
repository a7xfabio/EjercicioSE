{
 "cells": [
  {
   "cell_type": "code",
   "execution_count": 1,
   "metadata": {},
   "outputs": [],
   "source": [
    "import time\n",
    "import numpy as np"
   ]
  },
  {
   "cell_type": "code",
   "execution_count": 2,
   "metadata": {},
   "outputs": [],
   "source": [
    "with open ('costos.txt') as carrito_lista_deseos:\n",
    "    lista_deseos = list(map(float, carrito_lista_deseos.read().split(\"\\n\")))"
   ]
  },
  {
   "cell_type": "code",
   "execution_count": 3,
   "metadata": {},
   "outputs": [
    {
     "name": "stdout",
     "output_type": "stream",
     "text": [
      "Calculo de la inversion sin iva 32869928.0 con iva 28917921.530037772\n",
      "Duracion: 2.311899185180664 segundos\n"
     ]
    }
   ],
   "source": [
    "inicio = time.time()\n",
    "carrito_deseos_iva = []\n",
    "\n",
    "for producto_deseado in lista_deseos: \n",
    "    iva = producto_deseado*1.13\n",
    "    if iva <= 25:\n",
    "        carrito_deseos_iva.append(iva)\n",
    "\n",
    "carrito_deseos_sin = []\n",
    "for producto_deseado in lista_deseos: \n",
    "    if producto_deseado <= 25:\n",
    "        carrito_deseos_sin.append(producto_deseado)\n",
    "      \n",
    "print(\"Calculo de la inversion sin iva {0} con iva {1}\".format(sum(carrito_deseos_sin),sum(carrito_deseos_iva)))\n",
    "print('Duracion: {} segundos'.format(time.time() - inicio))"
   ]
  }
 ],
 "metadata": {
  "kernelspec": {
   "display_name": "Python 3",
   "language": "python",
   "name": "python3"
  },
  "language_info": {
   "codemirror_mode": {
    "name": "ipython",
    "version": 3
   },
   "file_extension": ".py",
   "mimetype": "text/x-python",
   "name": "python",
   "nbconvert_exporter": "python",
   "pygments_lexer": "ipython3",
   "version": "3.8.3"
  }
 },
 "nbformat": 4,
 "nbformat_minor": 4
}
