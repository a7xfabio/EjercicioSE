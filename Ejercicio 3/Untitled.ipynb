{
 "cells": [
  {
   "cell_type": "code",
   "execution_count": 7,
   "metadata": {},
   "outputs": [],
   "source": [
    "import time\n",
    "import numpy as np"
   ]
  },
  {
   "cell_type": "code",
   "execution_count": 8,
   "metadata": {},
   "outputs": [],
   "source": [
    "with open ('costos.txt') as lista_deseos:\n",
    "    productos = list(map(float, lista_deseos.read().split(\"\\n\")))"
   ]
  },
  {
   "cell_type": "code",
   "execution_count": 9,
   "metadata": {},
   "outputs": [
    {
     "name": "stdout",
     "output_type": "stream",
     "text": [
      "32869928.0\n",
      "Duracion: 0.9146578311920166 segundos\n"
     ]
    }
   ],
   "source": [
    "inicio=time.time()\n",
    "inversion = []\n",
    "for producto in productos:\n",
    "    if producto <=25: \n",
    "        inversion.append(producto)\n",
    "print(sum(inversion))\n",
    "print ('Duracion: {} segundos'.format(time.time() - inicio))"
   ]
  },
  {
   "cell_type": "code",
   "execution_count": 13,
   "metadata": {},
   "outputs": [
    {
     "name": "stdout",
     "output_type": "stream",
     "text": [
      "El total de la inversion es:  $  32869928.0\n",
      "Duracion: 0.33705806732177734 segundos\n"
     ]
    }
   ],
   "source": [
    "inicio =time.time()\n",
    "producto = np.array(productos)\n",
    "inversion = producto[producto <= 25]\n",
    "sum_inversion = np.sum(inversion)\n",
    "print (\"El total de la inversion es:  $  {}\".format(sum_inversion))\n",
    "print ('Duracion: {} segundos'.format(time.time() - inicio))\n"
   ]
  },
  {
   "cell_type": "code",
   "execution_count": null,
   "metadata": {},
   "outputs": [],
   "source": []
  },
  {
   "cell_type": "code",
   "execution_count": null,
   "metadata": {},
   "outputs": [],
   "source": []
  }
 ],
 "metadata": {
  "kernelspec": {
   "display_name": "Python 3",
   "language": "python",
   "name": "python3"
  },
  "language_info": {
   "codemirror_mode": {
    "name": "ipython",
    "version": 3
   },
   "file_extension": ".py",
   "mimetype": "text/x-python",
   "name": "python",
   "nbconvert_exporter": "python",
   "pygments_lexer": "ipython3",
   "version": "3.8.3"
  }
 },
 "nbformat": 4,
 "nbformat_minor": 4
}
